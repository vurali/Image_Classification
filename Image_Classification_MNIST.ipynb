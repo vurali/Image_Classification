{
  "nbformat": 4,
  "nbformat_minor": 0,
  "metadata": {
    "colab": {
      "provenance": []
    },
    "kernelspec": {
      "name": "python3",
      "display_name": "Python 3"
    },
    "language_info": {
      "name": "python"
    }
  },
  "cells": [
    {
      "cell_type": "markdown",
      "source": [
        "# Step 1: Import Libraries"
      ],
      "metadata": {
        "id": "JBkgzDMhZd1p"
      }
    },
    {
      "cell_type": "code",
      "execution_count": 5,
      "metadata": {
        "id": "i9jjm-UkBwu1"
      },
      "outputs": [],
      "source": [
        "import tensorflow as tf\n",
        "from tensorflow.keras import layers, models"
      ]
    },
    {
      "cell_type": "markdown",
      "source": [
        "# Step 2: Load and Preprocess Data"
      ],
      "metadata": {
        "id": "otqBuwDWZsWv"
      }
    },
    {
      "cell_type": "code",
      "source": [
        "mnist = tf.keras.datasets.mnist\n",
        "(x_train, y_train), (x_test, y_test) = mnist.load_data()\n",
        "\n",
        "# Normalize the input image so that each pixel value is between 0 to 1.\n",
        "x_train, x_test = x_train / 255.0, x_test / 255.0"
      ],
      "metadata": {
        "id": "V1or4vpsZgY5"
      },
      "execution_count": 6,
      "outputs": []
    },
    {
      "cell_type": "markdown",
      "source": [
        "# Step 3: Build the Neural Network Model"
      ],
      "metadata": {
        "id": "xO-UH8dKaNrB"
      }
    },
    {
      "cell_type": "code",
      "source": [
        "model = models.Sequential([\n",
        "  layers.Flatten(input_shape=(28, 28)),  # Flatten 28x28 images to 1D array\n",
        "  layers.Dense(512, activation='relu'),  # Dense hidden layer with 512 neurons\n",
        "  layers.Dropout(0.2),                   # Dropout layer to prevent overfitting\n",
        "  layers.Dense(10, activation='softmax') # Output layer with 10 neurons (digits 0-9)\n",
        "])"
      ],
      "metadata": {
        "id": "N63fKDx-ZtAS"
      },
      "execution_count": 8,
      "outputs": []
    },
    {
      "cell_type": "markdown",
      "source": [
        "# Step 4: Compile the Model"
      ],
      "metadata": {
        "id": "2MRc8rZObVlK"
      }
    },
    {
      "cell_type": "code",
      "source": [
        "model.compile(optimizer='adam',\n",
        "              loss='sparse_categorical_crossentropy',\n",
        "              metrics=['accuracy'])"
      ],
      "metadata": {
        "id": "vSseW7JIaOaX"
      },
      "execution_count": 10,
      "outputs": []
    },
    {
      "cell_type": "markdown",
      "source": [
        "# Step 5: Train the Model"
      ],
      "metadata": {
        "id": "sRzVbpdObsCu"
      }
    },
    {
      "cell_type": "code",
      "source": [
        "model.fit(x_train, y_train, epochs=7)"
      ],
      "metadata": {
        "colab": {
          "base_uri": "https://localhost:8080/"
        },
        "id": "VYF5MZYMbW-c",
        "outputId": "393d4827-c940-4295-a823-619ec54d724c"
      },
      "execution_count": 12,
      "outputs": [
        {
          "output_type": "stream",
          "name": "stdout",
          "text": [
            "Epoch 1/7\n",
            "1875/1875 [==============================] - 14s 7ms/step - loss: 0.0562 - accuracy: 0.9821\n",
            "Epoch 2/7\n",
            "1875/1875 [==============================] - 14s 7ms/step - loss: 0.0464 - accuracy: 0.9848\n",
            "Epoch 3/7\n",
            "1875/1875 [==============================] - 14s 7ms/step - loss: 0.0381 - accuracy: 0.9873\n",
            "Epoch 4/7\n",
            "1875/1875 [==============================] - 14s 7ms/step - loss: 0.0310 - accuracy: 0.9894\n",
            "Epoch 5/7\n",
            "1875/1875 [==============================] - 14s 8ms/step - loss: 0.0284 - accuracy: 0.9903\n",
            "Epoch 6/7\n",
            "1875/1875 [==============================] - 15s 8ms/step - loss: 0.0255 - accuracy: 0.9914\n",
            "Epoch 7/7\n",
            "1875/1875 [==============================] - 15s 8ms/step - loss: 0.0238 - accuracy: 0.9921\n"
          ]
        },
        {
          "output_type": "execute_result",
          "data": {
            "text/plain": [
              "<keras.src.callbacks.History at 0x79d3c858d690>"
            ]
          },
          "metadata": {},
          "execution_count": 12
        }
      ]
    },
    {
      "cell_type": "markdown",
      "source": [
        "# Step 6: Evaluate the Model"
      ],
      "metadata": {
        "id": "RXPlhY9Mb48H"
      }
    },
    {
      "cell_type": "code",
      "source": [
        "test_loss, test_acc = model.evaluate(x_test, y_test)\n",
        "print(f'Test Accuracy: {test_acc}')"
      ],
      "metadata": {
        "colab": {
          "base_uri": "https://localhost:8080/"
        },
        "id": "uIrKZluNb5ea",
        "outputId": "85b9f246-7b00-476d-d2f5-53f4e855d109"
      },
      "execution_count": 13,
      "outputs": [
        {
          "output_type": "stream",
          "name": "stdout",
          "text": [
            "313/313 [==============================] - 1s 3ms/step - loss: 0.0670 - accuracy: 0.9829\n",
            "Test Accuracy: 0.9829000234603882\n"
          ]
        }
      ]
    },
    {
      "cell_type": "code",
      "source": [
        "import seaborn as sns\n",
        "import matplotlib.pyplot as plt\n",
        "\n",
        "# Make predictions\n",
        "predictions = model.predict(x_test)\n",
        "predicted_labels = tf.argmax(predictions, axis=1)\n",
        "\n",
        "# Plot the first 10 test images with their true and predicted labels\n",
        "plt.figure(figsize=(12, 6))\n",
        "for i in range(10):\n",
        "    plt.subplot(2, 5, i+1)\n",
        "    plt.imshow(x_test[i], cmap='gray')\n",
        "    plt.title(f\"True: {y_test[i]}\\nPredicted: {predicted_labels[i]}\", fontsize=10)\n",
        "    plt.axis('off')\n",
        "plt.tight_layout()\n",
        "plt.show()\n"
      ],
      "metadata": {
        "colab": {
          "base_uri": "https://localhost:8080/",
          "height": 591
        },
        "id": "itq5zzgmdheu",
        "outputId": "2c8ceda1-5031-4439-be56-5c1b767e48ca"
      },
      "execution_count": 17,
      "outputs": [
        {
          "output_type": "stream",
          "name": "stdout",
          "text": [
            "313/313 [==============================] - 3s 7ms/step\n"
          ]
        },
        {
          "output_type": "display_data",
          "data": {
            "text/plain": [
              "<Figure size 1200x600 with 10 Axes>"
            ],
            "image/png": "[encoded data removed]"
          },
          "metadata": {}
        }
      ]
    },
    {
      "cell_type": "code",
      "source": [],
      "metadata": {
        "id": "hhrd8bTrdmmw"
      },
      "execution_count": null,
      "outputs": []
    }
  ]
}